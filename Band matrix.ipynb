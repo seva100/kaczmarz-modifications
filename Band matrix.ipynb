{
 "cells": [
  {
   "cell_type": "code",
   "execution_count": 5,
   "metadata": {
    "collapsed": true
   },
   "outputs": [],
   "source": [
    "%load_ext autoreload\n",
    "%autoreload 2"
   ]
  },
  {
   "cell_type": "code",
   "execution_count": 39,
   "metadata": {
    "collapsed": true
   },
   "outputs": [],
   "source": [
    "import time\n",
    "from collections import deque\n",
    "import numpy as np\n",
    "import scipy as sp\n",
    "import scipy.sparse\n",
    "import matplotlib.pyplot as plt\n",
    "%matplotlib inline"
   ]
  },
  {
   "cell_type": "code",
   "execution_count": 8,
   "metadata": {
    "collapsed": true
   },
   "outputs": [],
   "source": [
    "from generate_matrices import band_mx, band_mx_with_given_cond"
   ]
  },
  {
   "cell_type": "code",
   "execution_count": 5,
   "metadata": {},
   "outputs": [
    {
     "name": "stdout",
     "output_type": "stream",
     "text": [
      "[-24.98373105 -25.75552193 -22.96455279 -26.38817053 -24.62220085\n",
      " -26.37779635 -24.94882001]\n",
      "[[-24.98373105 -24.98373105 -24.98373105]\n",
      " [-25.75552193 -25.75552193 -25.75552193]\n",
      " [-22.96455279 -22.96455279 -22.96455279]\n",
      " [-26.38817053 -26.38817053 -26.38817053]\n",
      " [-24.62220085 -24.62220085 -24.62220085]\n",
      " [-26.37779635 -26.37779635 -26.37779635]\n",
      " [-24.94882001 -24.94882001 -24.94882001]]\n",
      "[-3 -2 -1  0  1  2  3]\n"
     ]
    },
    {
     "data": {
      "text/plain": [
       "<5x3 sparse matrix of type '<class 'numpy.float64'>'\n",
       "\twith 14 stored elements (7 diagonals) in DIAgonal format>"
      ]
     },
     "execution_count": 5,
     "metadata": {},
     "output_type": "execute_result"
    }
   ],
   "source": [
    "band_mx(5, 3, half_band_size=3)"
   ]
  },
  {
   "cell_type": "code",
   "execution_count": 6,
   "metadata": {},
   "outputs": [
    {
     "name": "stdout",
     "output_type": "stream",
     "text": [
      "[-25.07107905 -26.09829239 -24.71923002 -25.01614101 -24.92119495\n",
      " -24.46415925 -24.18835058]\n",
      "[[-25.07107905 -25.07107905 -25.07107905]\n",
      " [-26.09829239 -26.09829239 -26.09829239]\n",
      " [-24.71923002 -24.71923002 -24.71923002]\n",
      " [-25.01614101 -25.01614101 -25.01614101]\n",
      " [-24.92119495 -24.92119495 -24.92119495]\n",
      " [-24.46415925 -24.46415925 -24.46415925]\n",
      " [-24.18835058 -24.18835058 -24.18835058]]\n",
      "[-3 -2 -1  0  1  2  3]\n"
     ]
    },
    {
     "data": {
      "text/plain": [
       "array([[-25.01614101, -24.92119495, -24.46415925],\n",
       "       [-24.71923002, -25.01614101, -24.92119495],\n",
       "       [-26.09829239, -24.71923002, -25.01614101],\n",
       "       [-25.07107905, -26.09829239, -24.71923002],\n",
       "       [  0.        , -25.07107905, -26.09829239]])"
      ]
     },
     "execution_count": 6,
     "metadata": {},
     "output_type": "execute_result"
    }
   ],
   "source": [
    "band_mx(5, 3, half_band_size=3, return_sparse=False)"
   ]
  },
  {
   "cell_type": "code",
   "execution_count": 7,
   "metadata": {},
   "outputs": [
    {
     "name": "stdout",
     "output_type": "stream",
     "text": [
      "[-24.20699376 -25.4440164  -25.54174161 -24.33191448 -25.11553705\n",
      " -26.07239115 -23.50164298]\n",
      "[[-24.20699376 -24.20699376 -24.20699376 -24.20699376 -24.20699376\n",
      "  -24.20699376 -24.20699376 -24.20699376 -24.20699376 -24.20699376]\n",
      " [-25.4440164  -25.4440164  -25.4440164  -25.4440164  -25.4440164\n",
      "  -25.4440164  -25.4440164  -25.4440164  -25.4440164  -25.4440164 ]\n",
      " [-25.54174161 -25.54174161 -25.54174161 -25.54174161 -25.54174161\n",
      "  -25.54174161 -25.54174161 -25.54174161 -25.54174161 -25.54174161]\n",
      " [-24.33191448 -24.33191448 -24.33191448 -24.33191448 -24.33191448\n",
      "  -24.33191448 -24.33191448 -24.33191448 -24.33191448 -24.33191448]\n",
      " [-25.11553705 -25.11553705 -25.11553705 -25.11553705 -25.11553705\n",
      "  -25.11553705 -25.11553705 -25.11553705 -25.11553705 -25.11553705]\n",
      " [-26.07239115 -26.07239115 -26.07239115 -26.07239115 -26.07239115\n",
      "  -26.07239115 -26.07239115 -26.07239115 -26.07239115 -26.07239115]\n",
      " [-23.50164298 -23.50164298 -23.50164298 -23.50164298 -23.50164298\n",
      "  -23.50164298 -23.50164298 -23.50164298 -23.50164298 -23.50164298]]\n",
      "[-3 -2 -1  0  1  2  3]\n",
      "[[-24.33191448 -25.11553705 -26.07239115 -23.50164298   0.           0.\n",
      "    0.           0.           0.           0.        ]\n",
      " [-25.54174161 -24.33191448 -25.11553705 -26.07239115 -23.50164298   0.\n",
      "    0.           0.           0.           0.        ]\n",
      " [-25.4440164  -25.54174161 -24.33191448 -25.11553705 -26.07239115\n",
      "  -23.50164298   0.           0.           0.           0.        ]\n",
      " [-24.20699376 -25.4440164  -25.54174161 -24.33191448 -25.11553705\n",
      "  -26.07239115 -23.50164298   0.           0.           0.        ]\n",
      " [  0.         -24.20699376 -25.4440164  -25.54174161 -24.33191448\n",
      "  -25.11553705 -26.07239115 -23.50164298   0.           0.        ]\n",
      " [  0.           0.         -24.20699376 -25.4440164  -25.54174161\n",
      "  -24.33191448 -25.11553705 -26.07239115 -23.50164298   0.        ]\n",
      " [  0.           0.           0.         -24.20699376 -25.4440164\n",
      "  -25.54174161 -24.33191448 -25.11553705 -26.07239115 -23.50164298]\n",
      " [  0.           0.           0.           0.         -24.20699376\n",
      "  -25.4440164  -25.54174161 -24.33191448 -25.11553705 -26.07239115]\n",
      " [  0.           0.           0.           0.           0.         -24.20699376\n",
      "  -25.4440164  -25.54174161 -24.33191448 -25.11553705]\n",
      " [  0.           0.           0.           0.           0.           0.\n",
      "  -24.20699376 -25.4440164  -25.54174161 -24.33191448]]\n"
     ]
    }
   ],
   "source": [
    "print(band_mx(10, 10, half_band_size=3, return_sparse=False))"
   ]
  },
  {
   "cell_type": "code",
   "execution_count": 14,
   "metadata": {},
   "outputs": [
    {
     "name": "stdout",
     "output_type": "stream",
     "text": [
      "[ 56.21726818 -55.58782068 -51.40858761]\n",
      "[[ 56.21726818  56.21726818  56.21726818  56.21726818  56.21726818\n",
      "   56.21726818  56.21726818  56.21726818  56.21726818  56.21726818]\n",
      " [-55.58782068 -55.58782068 -55.58782068 -55.58782068 -55.58782068\n",
      "  -55.58782068 -55.58782068 -55.58782068 -55.58782068 -55.58782068]\n",
      " [-51.40858761 -51.40858761 -51.40858761 -51.40858761 -51.40858761\n",
      "  -51.40858761 -51.40858761 -51.40858761 -51.40858761 -51.40858761]]\n",
      "[-1  0  1]\n",
      "[[-55.58782068 -51.40858761   0.           0.           0.           0.\n",
      "    0.           0.           0.           0.        ]\n",
      " [ 56.21726818 -55.58782068 -51.40858761   0.           0.           0.\n",
      "    0.           0.           0.           0.        ]\n",
      " [  0.          56.21726818 -55.58782068 -51.40858761   0.           0.\n",
      "    0.           0.           0.           0.        ]\n",
      " [  0.           0.          56.21726818 -55.58782068 -51.40858761   0.\n",
      "    0.           0.           0.           0.        ]\n",
      " [  0.           0.           0.          56.21726818 -55.58782068\n",
      "  -51.40858761   0.           0.           0.           0.        ]\n",
      " [  0.           0.           0.           0.          56.21726818\n",
      "  -55.58782068 -51.40858761   0.           0.           0.        ]\n",
      " [  0.           0.           0.           0.           0.          56.21726818\n",
      "  -55.58782068 -51.40858761   0.           0.        ]\n",
      " [  0.           0.           0.           0.           0.           0.\n",
      "   56.21726818 -55.58782068 -51.40858761   0.        ]\n",
      " [  0.           0.           0.           0.           0.           0.\n",
      "    0.          56.21726818 -55.58782068 -51.40858761]\n",
      " [  0.           0.           0.           0.           0.           0.\n",
      "    0.           0.          56.21726818 -55.58782068]]\n"
     ]
    }
   ],
   "source": [
    "np.random.seed(1)\n",
    "mx = band_mx(10, 10, half_band_size=1, return_sparse=False)\n",
    "print(mx)"
   ]
  },
  {
   "cell_type": "code",
   "execution_count": 21,
   "metadata": {},
   "outputs": [
    {
     "data": {
      "text/plain": [
       "array([ 117.34813882,  117.27850889,  106.45931448,  106.17026295,\n",
       "         90.26282249,   89.56135248,   72.39620924,   71.00508212,\n",
       "         60.00185082,   54.28409154])"
      ]
     },
     "execution_count": 21,
     "metadata": {},
     "output_type": "execute_result"
    }
   ],
   "source": [
    "u, singular_vals, v = np.linalg.svd(mx)\n",
    "singular_vals"
   ]
  },
  {
   "cell_type": "code",
   "execution_count": 27,
   "metadata": {},
   "outputs": [
    {
     "data": {
      "text/plain": [
       "2.1617408616990343"
      ]
     },
     "execution_count": 27,
     "metadata": {},
     "output_type": "execute_result"
    }
   ],
   "source": [
    "np.linalg.cond(mx)"
   ]
  },
  {
   "cell_type": "code",
   "execution_count": 9,
   "metadata": {},
   "outputs": [
    {
     "name": "stdout",
     "output_type": "stream",
     "text": [
      "[[-95.01948325 -75.96850342 -49.29903613 -10.47733122   2.06749546\n",
      "  -30.91546709   0.           0.           0.           0.        ]\n",
      " [ 28.40368848 -95.01948325 -75.96850342 -49.29903613 -10.47733122\n",
      "    2.06749546 -30.91546709   0.           0.           0.        ]\n",
      " [ 77.85488687  28.40368848 -95.01948325 -75.96850342 -49.29903613\n",
      "  -10.47733122   2.06749546 -30.91546709   0.           0.        ]\n",
      " [-52.14600744  77.85488687  28.40368848 -95.01948325 -75.96850342\n",
      "  -49.29903613 -10.47733122   2.06749546 -30.91546709   0.        ]\n",
      " [-74.85570342 -52.14600744  77.85488687  28.40368848 -95.01948325\n",
      "  -75.96850342 -49.29903613 -10.47733122   2.06749546 -30.91546709]\n",
      " [ 17.99553203 -74.85570342 -52.14600744  77.85488687  28.40368848\n",
      "  -95.01948325 -75.96850342 -49.29903613 -10.47733122   2.06749546]\n",
      " [  0.          17.99553203 -74.85570342 -52.14600744  77.85488687\n",
      "   28.40368848 -95.01948325 -75.96850342 -49.29903613 -10.47733122]\n",
      " [  0.           0.          17.99553203 -74.85570342 -52.14600744\n",
      "   77.85488687  28.40368848 -95.01948325 -75.96850342 -49.29903613]\n",
      " [  0.           0.           0.          17.99553203 -74.85570342\n",
      "  -52.14600744  77.85488687  28.40368848 -95.01948325 -75.96850342]\n",
      " [  0.           0.           0.           0.          17.99553203\n",
      "  -74.85570342 -52.14600744  77.85488687  28.40368848 -95.01948325]]\n",
      "[[ -9.50194832e+01  -7.59685034e+01  -4.92990361e+01  -1.04773312e+01\n",
      "    2.06749546e+00  -8.39570067e+03   0.00000000e+00   0.00000000e+00\n",
      "    0.00000000e+00   0.00000000e+00]\n",
      " [  2.84036885e+01  -9.50194832e+01  -7.59685034e+01  -4.92990361e+01\n",
      "   -1.04773312e+01   2.06749546e+00  -8.39570067e+03   0.00000000e+00\n",
      "    0.00000000e+00   0.00000000e+00]\n",
      " [  7.78548869e+01   2.84036885e+01  -9.50194832e+01  -7.59685034e+01\n",
      "   -4.92990361e+01  -1.04773312e+01   2.06749546e+00  -8.39570067e+03\n",
      "    0.00000000e+00   0.00000000e+00]\n",
      " [ -5.21460074e+01   7.78548869e+01   2.84036885e+01  -9.50194832e+01\n",
      "   -7.59685034e+01  -4.92990361e+01  -1.04773312e+01   2.06749546e+00\n",
      "   -8.39570067e+03   0.00000000e+00]\n",
      " [ -7.48557034e+01  -5.21460074e+01   7.78548869e+01   2.84036885e+01\n",
      "   -9.50194832e+01  -7.59685034e+01  -4.92990361e+01  -1.04773312e+01\n",
      "    2.06749546e+00  -8.39570067e+03]\n",
      " [  1.79955320e+01  -7.48557034e+01  -5.21460074e+01   7.78548869e+01\n",
      "    2.84036885e+01  -9.50194832e+01  -7.59685034e+01  -4.92990361e+01\n",
      "   -1.04773312e+01   2.06749546e+00]\n",
      " [  0.00000000e+00   1.79955320e+01  -7.48557034e+01  -5.21460074e+01\n",
      "    7.78548869e+01   2.84036885e+01  -9.50194832e+01  -7.59685034e+01\n",
      "   -4.92990361e+01  -1.04773312e+01]\n",
      " [  0.00000000e+00   0.00000000e+00   1.79955320e+01  -7.48557034e+01\n",
      "   -5.21460074e+01   7.78548869e+01   2.84036885e+01  -9.50194832e+01\n",
      "   -7.59685034e+01  -4.92990361e+01]\n",
      " [  0.00000000e+00   0.00000000e+00   0.00000000e+00   1.79955320e+01\n",
      "   -7.48557034e+01  -5.21460074e+01   7.78548869e+01   2.84036885e+01\n",
      "   -9.50194832e+01  -7.59685034e+01]\n",
      " [  0.00000000e+00   0.00000000e+00   0.00000000e+00   0.00000000e+00\n",
      "    1.79955320e+01  -7.48557034e+01  -5.21460074e+01   7.78548869e+01\n",
      "    2.84036885e+01  -9.50194832e+01]]\n",
      "[[ 24.76070127 -36.43863397 -45.06839501 -23.88347675 -29.78001367\n",
      "   51.98560983   0.           0.           0.           0.        ]\n",
      " [-14.98917213  24.76070127 -36.43863397 -45.06839501 -23.88347675\n",
      "  -29.78001367  51.98560983   0.           0.           0.        ]\n",
      " [-60.33078431 -14.98917213  24.76070127 -36.43863397 -45.06839501\n",
      "  -23.88347675 -29.78001367  51.98560983   0.           0.        ]\n",
      " [-66.83730771 -60.33078431 -14.98917213  24.76070127 -36.43863397\n",
      "  -45.06839501 -23.88347675 -29.78001367  51.98560983   0.        ]\n",
      " [-67.65591484 -66.83730771 -60.33078431 -14.98917213  24.76070127\n",
      "  -36.43863397 -45.06839501 -23.88347675 -29.78001367  51.98560983]\n",
      " [ 56.24163255 -67.65591484 -66.83730771 -60.33078431 -14.98917213\n",
      "   24.76070127 -36.43863397 -45.06839501 -23.88347675 -29.78001367]\n",
      " [  0.          56.24163255 -67.65591484 -66.83730771 -60.33078431\n",
      "  -14.98917213  24.76070127 -36.43863397 -45.06839501 -23.88347675]\n",
      " [  0.           0.          56.24163255 -67.65591484 -66.83730771\n",
      "  -60.33078431 -14.98917213  24.76070127 -36.43863397 -45.06839501]\n",
      " [  0.           0.           0.          56.24163255 -67.65591484\n",
      "  -66.83730771 -60.33078431 -14.98917213  24.76070127 -36.43863397]\n",
      " [  0.           0.           0.           0.          56.24163255\n",
      "  -67.65591484 -66.83730771 -60.33078431 -14.98917213  24.76070127]]\n",
      "cond: 2999.9950184\n"
     ]
    }
   ],
   "source": [
    "print(band_mx_with_given_cond(10, 10, 5, cond=3000))\n",
    "print('cond:', np.linalg.cond(band_mx_with_given_cond(10, 10, 5, cond=3000)))"
   ]
  },
  {
   "cell_type": "code",
   "execution_count": 69,
   "metadata": {
    "collapsed": true
   },
   "outputs": [],
   "source": [
    "def Kaczmarz(A,f,x_0,N_max,eps):\n",
    "    x = np.copy(x_0)\n",
    "    m = A.shape[0]\n",
    "    res = np.array([np.linalg.norm(A @ x - f)/np.linalg.norm(f)])\n",
    "    norms = np.zeros(m)\n",
    "    #calculate row norms in advance\n",
    "    for i in range(m):\n",
    "        norms[i] = np.linalg.norm(A[i,:])**2\n",
    "    #Kaczmarz method itself\n",
    "    startTime = time.time()\n",
    "    for i in range(N_max):\n",
    "        k = i % m\n",
    "        x = x + ((f[k] - np.dot(A[k,:],x))/norms[k])*A[k,:]\n",
    "        #update residual\n",
    "        new_res = np.linalg.norm(A @ x - f)/np.linalg.norm(f)\n",
    "        res = np.append(res,[new_res])\n",
    "        if new_res < eps:\n",
    "            break\n",
    "    endTime = time.time()\n",
    "    return x,res,endTime-startTime"
   ]
  },
  {
   "cell_type": "code",
   "execution_count": 23,
   "metadata": {
    "collapsed": true
   },
   "outputs": [],
   "source": [
    "def Kaczmarz_band(A,f,x_0,N_max,eps):\n",
    "    x = np.copy(x_0)\n",
    "    m = A.shape[0]\n",
    "    res = np.array([np.linalg.norm(A @ x - f)/np.linalg.norm(f)])\n",
    "    norms = np.zeros(m)\n",
    "    #calculate row norms in advance\n",
    "    for i in range(m):\n",
    "        norms[i] = np.linalg.norm(A[i,:])**2\n",
    "    #Kaczmarz method itself\n",
    "    startTime = time.time()\n",
    "    for i in range(N_max):\n",
    "        if i % 2 == 0:\n",
    "            k = (i // 2) % m\n",
    "        else:\n",
    "            k = m - 1 - (i // 2) % m\n",
    "        x = x + ((f[k] - np.dot(A[k,:],x))/norms[k])*A[k,:]\n",
    "        #update residual\n",
    "        new_res = np.linalg.norm(A @ x - f)/np.linalg.norm(f)\n",
    "        res = np.append(res,[new_res])\n",
    "        if new_res < eps:\n",
    "            break\n",
    "    endTime = time.time()\n",
    "    return x,res,endTime-startTime"
   ]
  },
  {
   "cell_type": "code",
   "execution_count": 24,
   "metadata": {
    "collapsed": true
   },
   "outputs": [],
   "source": [
    "def SimpleRandomKaczmarz(A,f,x_0,N_max,eps):\n",
    "    x = np.copy(x_0)\n",
    "    m = A.shape[0]\n",
    "    res = np.array([np.linalg.norm(A @ x - f)/np.linalg.norm(f)])\n",
    "    norms = np.zeros(m)\n",
    "    cum_norms = np.zeros(m)\n",
    "    #calculate row norms in advance\n",
    "    for i in range(m):\n",
    "        norms[i] = np.linalg.norm(A[i,:])**2   \n",
    "    np.random.seed(666)\n",
    "    #just uniform distribution on the set of equations\n",
    "    startTime = time.time()\n",
    "    for i in range(N_max):\n",
    "        k = np.random.randint(m)\n",
    "        x = x + ((f[k] - np.dot(A[k,:],x))/norms[k])*A[k,:]\n",
    "        #update residual\n",
    "        new_res = np.linalg.norm(A @ x - f)/np.linalg.norm(f)\n",
    "        res = np.append(res,[new_res])\n",
    "        if new_res < eps:\n",
    "            break\n",
    "    endTime = time.time()\n",
    "    return x,res,endTime-startTime"
   ]
  },
  {
   "cell_type": "code",
   "execution_count": 84,
   "metadata": {
    "collapsed": true
   },
   "outputs": [],
   "source": [
    "def RandomKaczmarz(A,f,x_0,N_max,eps):\n",
    "    x = np.copy(x_0)\n",
    "    m = A.shape[0]\n",
    "    res = np.array([np.linalg.norm(A @ x - f)/np.linalg.norm(f)])\n",
    "    norms = np.zeros(m)\n",
    "    cum_norms = np.zeros(m)\n",
    "    #calculate row norms in advance\n",
    "    for i in range(m):\n",
    "        norms[i] = np.linalg.norm(A[i,:])**2   \n",
    "    cum_norms = np.cumsum(norms)\n",
    "    cum_norms /= cum_norms[len(cum_norms)-1]\n",
    "    np.random.seed(666)\n",
    "    startTime = time.time()\n",
    "    #Follow Strohmer, Vershinin\n",
    "    for i in range(N_max):\n",
    "        r = np.random.rand()\n",
    "        k = np.searchsorted(cum_norms,r)\n",
    "        x = x + ((f[k] - np.dot(A[k,:],x))/norms[k])*A[k,:]\n",
    "        #update residual\n",
    "        new_res = np.linalg.norm(A @ x - f)/np.linalg.norm(f)\n",
    "        res = np.append(res,[new_res])\n",
    "        if new_res < eps:\n",
    "            break\n",
    "    endTime = time.time()\n",
    "    return x,res,endTime-startTime"
   ]
  },
  {
   "cell_type": "code",
   "execution_count": 74,
   "metadata": {
    "collapsed": true
   },
   "outputs": [],
   "source": [
    "def KaczLyust(A,b,eps,maxIter,x0):\n",
    "    '''Performs the main calculation procedure over the params.\n",
    "    calculate(dict params, int testNo=None) -> dict answer\n",
    "    '''\n",
    "    # You can print a debug info onto the main screen\n",
    "    \n",
    "    answer = {}\n",
    "    answer['info'] = {'calcTime': None, 'iterNum': None, 'res': None}\n",
    "    startTime = time.time()\n",
    "    iterNum = 1\n",
    "    \n",
    "    n = len(A)\n",
    "    A = A.astype(float); b = b.astype(float)    # required for division\n",
    "    # Norm each equation\n",
    "    normCoef = np.transpose(np.sqrt(np.sum(A ** 2, 1)))\n",
    "    A /= normCoef[:,None]\n",
    "    b /= normCoef\n",
    "    x = np.copy(x_0)\n",
    "    # using 2nd norm below (change to suit your needs)\n",
    "    disparity = lambda x: np.linalg.norm(b - np.dot(A, np.transpose(x)))/np.linalg.norm(b)\n",
    "    cosVectAngle = lambda a, b: np.inner(a, b) / np.linalg.norm(a) / np.linalg.norm(b)\n",
    "    HPlane_Pnts = deque()\n",
    "    lastVr = None\n",
    "    q_last = None\n",
    "    init_lastVr = False\n",
    "    answer['info']['res'] = [disparity(x)]\n",
    "    while iterNum < maxIter and disparity(x) >= eps:\n",
    "        for i in range(n):\n",
    "            k = i\n",
    "            t = A[k] @ x - b[k]\n",
    "            x -= A[k] * t\n",
    "            new_res = np.linalg.norm(A @ x - b)/np.linalg.norm(b)\n",
    "            answer['info']['res'].append(new_res)\n",
    "            if i == n - 1:\n",
    "                HPlane_Pnts.append(np.copy(x))\n",
    "        if len(HPlane_Pnts) > 3:\n",
    "            HPlane_Pnts.popleft()\n",
    "            #pprint(HPlane_Pnts)\n",
    "            if not init_lastVr:\n",
    "                prevVr = HPlane_Pnts[-2] - HPlane_Pnts[-3]\n",
    "            else:\n",
    "                prevVr = lastVr\n",
    "            lastVr = HPlane_Pnts[-1] - HPlane_Pnts[-2]\n",
    "            init_lastVr = True\n",
    "            #print 'cos(angle): ', cosVectAngle(prevVr, lastVr)\n",
    "            #if np.isclose(cosVectAngle(prevVr, lastVr), 1):\n",
    "            \n",
    "            q_prev = q_last\n",
    "            q_last = np.linalg.norm(lastVr) / \\\n",
    "                    np.linalg.norm(prevVr)\n",
    "            #print 'q_prev: {}, q_last: {} '.format(q_prev, q_last)\n",
    "            if not (q_prev is None) and \\\n",
    "                q_last != 1 and \\\n",
    "                np.isclose(q_prev, q_last) and \\\n",
    "                np.isclose(cosVectAngle(prevVr, lastVr), 1):\n",
    "                \n",
    "                # Lyusternik acceleration\n",
    "                print('accelerating; iterNum: %d, q_last: %f' % (iterNum, q_last))\n",
    "                x = HPlane_Pnts[-1] + (HPlane_Pnts[-1] - HPlane_Pnts[-2]) / (1.0 - q_last)\n",
    "                print('disparity of x: ', disparity(x))\n",
    "                HPlane_Pnts.clear()\n",
    "                \n",
    "            #time.sleep(2)\n",
    "        iterNum += n\n",
    "    #add last residual\n",
    "    new_res = np.linalg.norm(A @ x - b)/np.linalg.norm(b)\n",
    "    answer['info']['res'].append(new_res)\n",
    "    #end\n",
    "    endTime = time.time()\n",
    "    answer['x'] = x\n",
    "    answer['info']['calcTime'] = endTime - startTime\n",
    "    answer['info']['iterNum'] = iterNum\n",
    "    answer['info']['disparity'] = disparity(x)\n",
    "    #if A.shape[0] == A.shape[1]:\n",
    "    #    answer['info']['conditionNum'] = np.linalg.norm(A) * np.linalg.norm(LA.inv(A))\n",
    "    #else:\n",
    "    #    answer['info']['conditionNum'] = 0\n",
    "    return answer"
   ]
  },
  {
   "cell_type": "code",
   "execution_count": 47,
   "metadata": {
    "collapsed": true
   },
   "outputs": [],
   "source": [
    "def KaczLyust_band(A,b,eps,maxIter,x0):\n",
    "    '''Performs the main calculation procedure over the params.\n",
    "    calculate(dict params, int testNo=None) -> dict answer\n",
    "    '''\n",
    "    # You can print a debug info onto the main screen\n",
    "    \n",
    "    answer = {}\n",
    "    answer['info'] = {'calcTime': None, 'iterNum': None, 'res': None}\n",
    "    startTime = time.time()\n",
    "    iterNum = 1\n",
    "    \n",
    "    n = len(A)\n",
    "    A = A.astype(float); b = b.astype(float)    # required for division\n",
    "    # Norm each equation\n",
    "    normCoef = np.transpose(np.sqrt(np.sum(A ** 2, 1)))\n",
    "    A /= normCoef[:,None]\n",
    "    b /= normCoef\n",
    "    x = np.copy(x_0)\n",
    "    # using 2nd norm below (change to suit your needs)\n",
    "    disparity = lambda x: np.linalg.norm(b - np.dot(A, np.transpose(x)))/np.linalg.norm(b)\n",
    "    cosVectAngle = lambda a, b: np.inner(a, b) / np.linalg.norm(a) / np.linalg.norm(b)\n",
    "    HPlane_Pnts = deque()\n",
    "    lastVr = None\n",
    "    q_last = None\n",
    "    init_lastVr = False\n",
    "    answer['info']['res'] = [disparity(x)]\n",
    "    while iterNum < maxIter and disparity(x) >= eps:\n",
    "        for i in range(n):\n",
    "            if i % 2 == 0:\n",
    "                k = (i // 2) % n\n",
    "            else:\n",
    "                k = n - 1 - (i // 2) % n\n",
    "            \n",
    "            t = A[k] @ x - b[k]\n",
    "            x -= A[k] * t\n",
    "            new_res = np.linalg.norm(A @ x - b)/np.linalg.norm(b)\n",
    "            answer['info']['res'].append(new_res)\n",
    "            if i == n - 1:\n",
    "                HPlane_Pnts.append(np.copy(x))\n",
    "        if len(HPlane_Pnts) > 3:\n",
    "            HPlane_Pnts.popleft()\n",
    "            #pprint(HPlane_Pnts)\n",
    "            if not init_lastVr:\n",
    "                prevVr = HPlane_Pnts[-2] - HPlane_Pnts[-3]\n",
    "            else:\n",
    "                prevVr = lastVr\n",
    "            lastVr = HPlane_Pnts[-1] - HPlane_Pnts[-2]\n",
    "            init_lastVr = True\n",
    "            #print 'cos(angle): ', cosVectAngle(prevVr, lastVr)\n",
    "            #if np.isclose(cosVectAngle(prevVr, lastVr), 1):\n",
    "            \n",
    "            q_prev = q_last\n",
    "            q_last = np.linalg.norm(lastVr) / \\\n",
    "                    np.linalg.norm(prevVr)\n",
    "            #print 'q_prev: {}, q_last: {} '.format(q_prev, q_last)\n",
    "            if not (q_prev is None) and \\\n",
    "                q_last != 1 and \\\n",
    "                np.isclose(q_prev, q_last) and \\\n",
    "                np.isclose(cosVectAngle(prevVr, lastVr), 1):\n",
    "                \n",
    "                # Lyusternik acceleration\n",
    "                print('accelerating; iterNum: %d, q_last: %f' % (iterNum, q_last))\n",
    "                x = HPlane_Pnts[-1] + (HPlane_Pnts[-1] - HPlane_Pnts[-2]) / (1.0 - q_last)\n",
    "                print('disparity of x: ', disparity(x))\n",
    "                HPlane_Pnts.clear()\n",
    "                \n",
    "            #time.sleep(2)\n",
    "        iterNum += n\n",
    "    #add last residual\n",
    "    new_res = np.linalg.norm(A @ x - b)/np.linalg.norm(b)\n",
    "    answer['info']['res'].append(new_res)\n",
    "    #end\n",
    "    endTime = time.time()\n",
    "    answer['x'] = x\n",
    "    answer['info']['calcTime'] = endTime - startTime\n",
    "    answer['info']['iterNum'] = iterNum\n",
    "    answer['info']['disparity'] = disparity(x)\n",
    "    #if A.shape[0] == A.shape[1]:\n",
    "    #    answer['info']['conditionNum'] = np.linalg.norm(A) * np.linalg.norm(LA.inv(A))\n",
    "    #else:\n",
    "    #    answer['info']['conditionNum'] = 0\n",
    "    return answer"
   ]
  },
  {
   "cell_type": "markdown",
   "metadata": {},
   "source": [
    "Testing"
   ]
  },
  {
   "cell_type": "code",
   "execution_count": 90,
   "metadata": {},
   "outputs": [
    {
     "name": "stdout",
     "output_type": "stream",
     "text": [
      "2500000.0 4.62567048934e+36\n",
      "1250000.0 1.77915023833e+35\n",
      "625000.0 5.36736303932e+32\n",
      "312500.0 1.4768802562e+31\n",
      "156250.0 3.78889950808e+29\n",
      "78125.0 2.90532320673e+27\n",
      "39062.5 4.1197303263e+25\n",
      "19531.25 2.30486980704e+23\n",
      "9765.625 1.98686587062e+22\n",
      "4882.8125 7.53127673584e+20\n",
      "2441.40625 4.98380699221e+17\n",
      "1220.703125 2.96206310303e+16\n",
      "610.3515625 1.96209668254e+16\n",
      "305.17578125 6.92431785338e+14\n",
      "152.587890625 1.36276894725e+13\n",
      "76.2939453125 776205053254.0\n",
      "38.14697265625 7531844742.45\n",
      "19.073486328125 57568735.2478\n",
      "9.5367431640625 942844.664636\n",
      "14.30511474609375 11812.2834252\n",
      "11.920928955078125 1514320.35911\n",
      "10.728836059570312 50454.8085404\n",
      "11.324882507324219 20153.3188743\n",
      "11.026859283447266 30999.1244524\n",
      "11.175870895385742 24814.1476943\n",
      "11.25037670135498 27686.0627121\n",
      "11.2876296043396 29283.0477436\n",
      "11.26900315284729 30125.6022328\n",
      "11.278316378593445 29700.530952\n",
      "11.282972991466522 29912.1086123\n",
      "11.280644685029984 30018.6147311\n",
      "11.281808838248253 29965.3016489\n",
      "11.282390914857388 29991.9431656\n",
      "11.28209987655282 30005.2751898\n",
      "11.282245395705104 29998.6082383\n",
      "11.282172636128962 30001.9414793\n",
      "11.282136256340891 30000.2748001\n",
      "11.282154446234927 29999.4415045\n",
      "11.282163541181944 29999.8581486\n",
      "11.282158993708435 30000.0664735\n",
      "11.28216126744519 29999.9623108\n",
      "11.282160130576813 30000.0143921\n",
      "11.282160699011001 29999.9883514\n",
      "11.282160414793907 30000.0013717\n"
     ]
    },
    {
     "data": {
      "text/plain": [
       "array([[-208.95364898, -138.19863288,  228.32824832, ...,    0.        ,\n",
       "           0.        ,    0.        ],\n",
       "       [-238.81548644, -208.95364898, -138.19863288, ...,    0.        ,\n",
       "           0.        ,    0.        ],\n",
       "       [ 219.74287257, -238.81548644, -208.95364898, ...,    0.        ,\n",
       "           0.        ,    0.        ],\n",
       "       ..., \n",
       "       [   0.        ,    0.        ,    0.        , ..., -208.95364898,\n",
       "        -138.19863288,  228.32824832],\n",
       "       [   0.        ,    0.        ,    0.        , ..., -238.81548644,\n",
       "        -208.95364898, -138.19863288],\n",
       "       [   0.        ,    0.        ,    0.        , ...,  219.74287257,\n",
       "        -238.81548644, -208.95364898]])"
      ]
     },
     "execution_count": 90,
     "metadata": {},
     "output_type": "execute_result"
    }
   ],
   "source": [
    "n = 100\n",
    "b = 10\n",
    "init_ampl = 300\n",
    "cond = 30000\n",
    "mx = band_mx_with_given_cond(n, n, b, init_ampl, cond, verbose=1)\n",
    "mx"
   ]
  },
  {
   "cell_type": "code",
   "execution_count": 14,
   "metadata": {},
   "outputs": [
    {
     "data": {
      "text/plain": [
       "30000.002525738753"
      ]
     },
     "execution_count": 14,
     "metadata": {},
     "output_type": "execute_result"
    }
   ],
   "source": [
    "np.linalg.cond(mx)"
   ]
  },
  {
   "cell_type": "code",
   "execution_count": 93,
   "metadata": {
    "collapsed": true
   },
   "outputs": [],
   "source": [
    "true_sol = np.random.randn(n)\n",
    "b = mx @ true_sol"
   ]
  },
  {
   "cell_type": "code",
   "execution_count": 98,
   "metadata": {},
   "outputs": [
    {
     "name": "stdout",
     "output_type": "stream",
     "text": [
      "accelerating; iterNum: 27801, q_last: 0.999679\n",
      "disparity of x:  0.000623574497147\n",
      "accelerating; iterNum: 47501, q_last: 0.999725\n",
      "disparity of x:  0.00042930083386\n",
      "accelerating; iterNum: 65301, q_last: 0.999736\n",
      "disparity of x:  0.000378641767288\n",
      "accelerating; iterNum: 85801, q_last: 0.999774\n",
      "disparity of x:  0.000343465554773\n",
      "accelerating; iterNum: 26501, q_last: 0.999777\n",
      "disparity of x:  0.000617418160732\n",
      "accelerating; iterNum: 47001, q_last: 0.999746\n",
      "disparity of x:  0.000432039898311\n",
      "accelerating; iterNum: 47601, q_last: 0.975742\n",
      "disparity of x:  0.00038637238896\n",
      "accelerating; iterNum: 58301, q_last: 0.999741\n",
      "disparity of x:  0.000319145941974\n",
      "accelerating; iterNum: 77901, q_last: 0.999754\n",
      "disparity of x:  0.000246104397355\n",
      "accelerating; iterNum: 78501, q_last: 0.975432\n",
      "disparity of x:  0.000213994561694\n",
      "accelerating; iterNum: 88901, q_last: 0.999748\n",
      "disparity of x:  0.000191881016112\n"
     ]
    }
   ],
   "source": [
    "eps = 1e-5\n",
    "N_max = 100000\n",
    "np.random.seed(666)\n",
    "x_0 = np.random.rand(n)\n",
    "x_kacz,res_kacz,t_kacz = Kaczmarz(mx,b,x_0,N_max,eps)\n",
    "x_kacz_band,res_kacz_band,t_kacz_band = Kaczmarz_band(mx,b,x_0,N_max,eps)\n",
    "x_simple_rand,res_simple_rand,t_simple_rand = SimpleRandomKaczmarz(mx,b,x_0,N_max,eps)\n",
    "x_rand,res_rand,t_rand = RandomKaczmarz(mx,b,x_0,N_max,eps)\n",
    "answer = KaczLyust(mx, b, eps, N_max, x_0)\n",
    "answer_band = KaczLyust_band(mx,b,eps,N_max,x_0)"
   ]
  },
  {
   "cell_type": "code",
   "execution_count": 100,
   "metadata": {},
   "outputs": [
    {
     "data": {
      "image/png": "[encoded data removed]",
      "text/plain": [
       "<matplotlib.figure.Figure at 0x7fd6742782b0>"
      ]
     },
     "metadata": {},
     "output_type": "display_data"
    },
    {
     "data": {
      "text/plain": [
       "<matplotlib.figure.Figure at 0x7fd6743d6240>"
      ]
     },
     "metadata": {},
     "output_type": "display_data"
    }
   ],
   "source": [
    "plt.figure(figsize=(14,8))\n",
    "plt.semilogy(res_kacz, label='Kaczmarz')\n",
    "plt.semilogy(answer['info']['res'], linestyle = '-', linewidth = 2.0, label='Lyusternick Kaczmarz')\n",
    "plt.semilogy(res_kacz_band, label='Kaczmarz for band')\n",
    "plt.semilogy(answer_band['info']['res'], linestyle = '-', linewidth = 2.0, label='Lyusternick Kaczmarz for band')\n",
    "plt.plot(res_simple_rand, linestyle = '-', linewidth = 2.0, label='simple randomized Kaczmarz')\n",
    "plt.plot(res_rand, linestyle = '-', linewidth = 2.0, label='Randomized Kaczmarz')\n",
    "plt.title('Relative residuals', fontsize = 20)\n",
    "plt.ylabel('Value', fontsize = 12)\n",
    "plt.xlabel('Projection number', fontsize = 12)\n",
    "plt.yscale('log')\n",
    "plt.legend()\n",
    "plt.show()\n",
    "plt.savefig('band_mx_n_1000_cond_30000.pdf')"
   ]
  },
  {
   "cell_type": "code",
   "execution_count": null,
   "metadata": {
    "collapsed": true
   },
   "outputs": [],
   "source": []
  }
 ],
 "metadata": {
  "kernelspec": {
   "display_name": "Python 3",
   "language": "python",
   "name": "python3"
  },
  "language_info": {
   "codemirror_mode": {
    "name": "ipython",
    "version": 3
   },
   "file_extension": ".py",
   "mimetype": "text/x-python",
   "name": "python",
   "nbconvert_exporter": "python",
   "pygments_lexer": "ipython3",
   "version": "3.6.3"
  }
 },
 "nbformat": 4,
 "nbformat_minor": 2
}
