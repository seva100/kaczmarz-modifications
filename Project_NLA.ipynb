{
 "cells": [
  {
   "cell_type": "code",
   "execution_count": 80,
   "metadata": {},
   "outputs": [],
   "source": [
    "import time\n",
    "import numpy as np\n",
    "import numpy.linalg as LA\n",
    "import random\n",
    "from collections import deque\n",
    "import os\n",
    "import numpy as np\n",
    "import matplotlib.pyplot as plt\n",
    "%matplotlib inline"
   ]
  },
  {
   "cell_type": "code",
   "execution_count": 81,
   "metadata": {},
   "outputs": [],
   "source": [
    "def Kaczmarz(A,f,x_0,N_max,eps):\n",
    "    x = np.copy(x_0)\n",
    "    m = A.shape[0]\n",
    "    res = np.array([np.linalg.norm(A @ x - f)/np.linalg.norm(f)])\n",
    "    norms = np.zeros(m)\n",
    "    #calculate row norms in advance\n",
    "    for i in range(m):\n",
    "        norms[i] = np.linalg.norm(A[i,:])**2\n",
    "    #Kaczmarz method itself\n",
    "    startTime = time.time()\n",
    "    for i in range(N_max):\n",
    "        k = i % m\n",
    "        x = x + ((f[k] - np.dot(A[k,:],x))/norms[k])*A[k,:]\n",
    "        #update residual\n",
    "        new_res = np.linalg.norm(A @ x - f)/np.linalg.norm(f)\n",
    "        res = np.append(res,[new_res])\n",
    "        if new_res < eps:\n",
    "            break\n",
    "    endTime = time.time()\n",
    "    return x,res,endTime-startTime"
   ]
  },
  {
   "cell_type": "code",
   "execution_count": 82,
   "metadata": {},
   "outputs": [],
   "source": [
    "def SimpleRandomKaczmarz(A,f,x_0,N_max,eps):\n",
    "    x = np.copy(x_0)\n",
    "    m = A.shape[0]\n",
    "    res = np.array([np.linalg.norm(A @ x - f)/np.linalg.norm(f)])\n",
    "    norms = np.zeros(m)\n",
    "    cum_norms = np.zeros(m)\n",
    "    #calculate row norms in advance\n",
    "    for i in range(m):\n",
    "        norms[i] = np.linalg.norm(A[i,:])**2   \n",
    "    np.random.seed(666)\n",
    "    #just uniform distribution on the set of equations\n",
    "    startTime = time.time()\n",
    "    for i in range(N_max):\n",
    "        k = np.random.randint(m)\n",
    "        x = x + ((f[k] - np.dot(A[k,:],x))/norms[k])*A[k,:]\n",
    "        #update residual\n",
    "        new_res = np.linalg.norm(A @ x - f)/np.linalg.norm(f)\n",
    "        res = np.append(res,[new_res])\n",
    "        if new_res < eps:\n",
    "            break\n",
    "    endTime = time.time()\n",
    "    return x,res,endTime-startTime"
   ]
  },
  {
   "cell_type": "code",
   "execution_count": 83,
   "metadata": {},
   "outputs": [],
   "source": [
    "def RandomKaczmarz(A,f,x_0,N_max,eps):\n",
    "    x = np.copy(x_0)\n",
    "    m = A.shape[0]\n",
    "    res = np.array([np.linalg.norm(A @ x - f)/np.linalg.norm(f)])\n",
    "    norms = np.zeros(m)\n",
    "    cum_norms = np.zeros(m)\n",
    "    #calculate row norms in advance\n",
    "    for i in range(m):\n",
    "        norms[i] = np.linalg.norm(A[i,:])**2   \n",
    "    cum_norms = np.cumsum(norms)\n",
    "    cum_norms /= cum_norms[len(cum_norms)-1]\n",
    "    np.random.seed(666)\n",
    "    startTime = time.time()\n",
    "    #Follow Strohmer, Vershinin\n",
    "    for i in range(N_max):\n",
    "        r = np.random.rand()\n",
    "        k = np.searchsorted(cum_norms,r)\n",
    "        x = x + ((f[k] - np.dot(A[k,:],x))/norms[k])*A[k,:]\n",
    "        #update residual\n",
    "        new_res = np.linalg.norm(A @ x - f)/np.linalg.norm(f)\n",
    "        res = np.append(res,[new_res])\n",
    "        if new_res < eps:\n",
    "            break\n",
    "    endTime = time.time()\n",
    "    return x,res,endTime-startTime"
   ]
  },
  {
   "cell_type": "markdown",
   "metadata": {},
   "source": [
    "Compare given $3$ methods on signal reconstruction."
   ]
  },
  {
   "cell_type": "code",
   "execution_count": 78,
   "metadata": {},
   "outputs": [],
   "source": [
    "#sample size\n",
    "m = 500\n",
    "r = 100\n",
    "n = 2*r + 1\n",
    "dots = np.random.rand(m)\n",
    "sorted_dots = np.sort(dots)\n",
    "true_coef = np.random.randn(n)\n",
    "#we want Fourier coefficients to decrease as 1/n\n",
    "for i in range(r):\n",
    "    true_coef[r+i+1] = true_coef[r+i+1]/(i+1)\n",
    "    true_coef[r-i-1] = true_coef[r-i-1]/(i+1)\n",
    "#generate function values:\n",
    "values = np.zeros(m,dtype=float)\n",
    "A = np.zeros((m,n))\n",
    "for i in range(m):\n",
    "    for j in range(n):\n",
    "        A[i,j] = np.cos(2*np.pi*(j-50)*dots[i])\n",
    "        values[i] += true_coef[j]*np.cos(2*np.pi*(j-50)*dots[i])"
   ]
  },
  {
   "cell_type": "markdown",
   "metadata": {},
   "source": [
    "System with matrix from normal distribution"
   ]
  },
  {
   "cell_type": "code",
   "execution_count": 95,
   "metadata": {},
   "outputs": [],
   "source": [
    "#sample size\n",
    "m = 150\n",
    "n = 100\n",
    "true_coef = np.random.randn(n)\n",
    "#generate function values:\n",
    "np.random.seed(666)\n",
    "A = np.random.randn(m,n)\n",
    "values = A @ true_coef"
   ]
  },
  {
   "cell_type": "code",
   "execution_count": 96,
   "metadata": {},
   "outputs": [
    {
     "name": "stdout",
     "output_type": "stream",
     "text": [
      "accelerating; iterNum: 10501, q_last: 0.898823\n",
      "disparity of x:  3.09062004801e-06\n",
      "accelerating; iterNum: 18301, q_last: 0.898776\n",
      "disparity of x:  1.33511490103e-09\n",
      "accelerating; iterNum: 23701, q_last: 0.898599\n",
      "disparity of x:  3.17660811763e-12\n"
     ]
    },
    {
     "data": {
      "image/png": "[encoded data removed]",
      "text/plain": [
       "<matplotlib.figure.Figure at 0x7f57ca681908>"
      ]
     },
     "metadata": {},
     "output_type": "display_data"
    }
   ],
   "source": [
    "eps = 1e-15\n",
    "N_max = 100000\n",
    "np.random.seed(666)\n",
    "x_0 = np.random.rand(n)\n",
    "x_Car,res_Car,t_Car = Kaczmarz(A,values,x_0,N_max,eps)\n",
    "x_simple_rand,res_simple_rand,t_simple_rand = SimpleRandomKaczmarz(A,values,x_0,N_max,eps)\n",
    "x_rand,res_rand,t_rand = RandomKaczmarz(A,values,x_0,N_max,eps)\n",
    "answer = calculate(A,values,eps,N_max,x_0)\n",
    "plt.figure(figsize=(14,8))\n",
    "plt.plot(res_Car, linestyle = '-', linewidth = 2.0, label='Kaczmarz')\n",
    "plt.plot(res_simple_rand, linestyle = '-', linewidth = 2.0, label='simple randomized Kaczmarz')\n",
    "plt.plot(res_rand, linestyle = '-', linewidth = 2.0, label='Randomized Kaczmarz')\n",
    "plt.plot(answer['info']['res'], linestyle = '-', linewidth = 2.0, label='Lyusternick Kaczmarz')\n",
    "plt.title('Relative residuals', fontsize = 20)\n",
    "plt.ylabel('Value', fontsize = 12)\n",
    "plt.xlabel('Projection number', fontsize = 12)\n",
    "plt.yscale('log')\n",
    "plt.legend()\n",
    "plt.show()"
   ]
  },
  {
   "cell_type": "code",
   "execution_count": 60,
   "metadata": {},
   "outputs": [],
   "source": [
    "def calculate(A,b,eps,maxIter,x0):\n",
    "    '''Performs the main calculation procedure over the params.\n",
    "    calculate(dict params, int testNo=None) -> dict answer\n",
    "    '''\n",
    "    # You can print a debug info onto the main screen\n",
    "    \n",
    "    answer = {}\n",
    "    answer['info'] = {'calcTime': None, 'iterNum': None, 'res': None}\n",
    "    startTime = time.time()\n",
    "    iterNum = 1\n",
    "    \n",
    "    n = len(A)\n",
    "    A = A.astype(float); b = b.astype(float)    # required for division\n",
    "    # Norm each equation\n",
    "    normCoef = np.transpose(np.sqrt(np.sum(A ** 2, 1)))\n",
    "    A /= normCoef[:,None]\n",
    "    b /= normCoef\n",
    "    # Choosing random x0\n",
    "    random.seed(None)   # inits with cur time or some dif-t random val\n",
    "    x = np.copy(x_0)\n",
    "    # using 2nd norm below (change to suit your needs)\n",
    "    disparity = lambda x: LA.norm(b - np.dot(A, np.transpose(x)))/LA.norm(b)\n",
    "    cosVectAngle = lambda a, b: np.inner(a, b) / LA.norm(a) / LA.norm(b)\n",
    "    HPlane_Pnts = deque()\n",
    "    lastVr = None\n",
    "    q_last = None\n",
    "    init_lastVr = False\n",
    "    answer['info']['res'] = [disparity(x)]\n",
    "    while iterNum < maxIter and disparity(x) >= eps:\n",
    "        for i in range(n):\n",
    "            t = A[i] @ x - b[i]\n",
    "            x -= A[i] * t\n",
    "            new_res = np.linalg.norm(A @ x - b)/np.linalg.norm(b)\n",
    "            answer['info']['res'].append(new_res)\n",
    "            if i == n - 1:\n",
    "                HPlane_Pnts.append(np.copy(x))\n",
    "        if len(HPlane_Pnts) > 3:\n",
    "            HPlane_Pnts.popleft()\n",
    "            #pprint(HPlane_Pnts)\n",
    "            if not init_lastVr:\n",
    "                prevVr = HPlane_Pnts[-2] - HPlane_Pnts[-3]\n",
    "            else:\n",
    "                prevVr = lastVr\n",
    "            lastVr = HPlane_Pnts[-1] - HPlane_Pnts[-2]\n",
    "            init_lastVr = True\n",
    "            #print 'cos(angle): ', cosVectAngle(prevVr, lastVr)\n",
    "            #if np.isclose(cosVectAngle(prevVr, lastVr), 1):\n",
    "            \n",
    "            q_prev = q_last\n",
    "            q_last = LA.norm(lastVr) / \\\n",
    "                    LA.norm(prevVr)\n",
    "            #print 'q_prev: {}, q_last: {} '.format(q_prev, q_last)\n",
    "            if not (q_prev is None) and \\\n",
    "                q_last != 1 and \\\n",
    "                np.isclose(q_prev, q_last) and \\\n",
    "                np.isclose(cosVectAngle(prevVr, lastVr), 1):\n",
    "                \n",
    "                # Lyusternik acceleration\n",
    "                print('accelerating; iterNum: %d, q_last: %f' % (iterNum, q_last))\n",
    "                x = HPlane_Pnts[-1] + (HPlane_Pnts[-1] - HPlane_Pnts[-2]) / (1.0 - q_last)\n",
    "                print('disparity of x: ', disparity(x))\n",
    "                HPlane_Pnts.clear()\n",
    "                \n",
    "            #time.sleep(2)\n",
    "        iterNum += n\n",
    "    #add last residual\n",
    "    new_res = np.linalg.norm(A @ x - b)/np.linalg.norm(b)\n",
    "    answer['info']['res'].append(new_res)\n",
    "    #end\n",
    "    endTime = time.time()\n",
    "    answer['x'] = x\n",
    "    answer['info']['calcTime'] = endTime - startTime\n",
    "    answer['info']['iterNum'] = iterNum\n",
    "    answer['info']['disparity'] = disparity(x)\n",
    "    if A.shape[0] == A.shape[1]:\n",
    "        answer['info']['conditionNum'] = LA.norm(A) * LA.norm(LA.inv(A))\n",
    "    else:\n",
    "        answer['info']['conditionNum'] = 0\n",
    "    return answer"
   ]
  },
  {
   "cell_type": "code",
   "execution_count": null,
   "metadata": {},
   "outputs": [],
   "source": []
  }
 ],
 "metadata": {
  "kernelspec": {
   "display_name": "Python 3",
   "language": "python",
   "name": "python3"
  },
  "language_info": {
   "codemirror_mode": {
    "name": "ipython",
    "version": 3
   },
   "file_extension": ".py",
   "mimetype": "text/x-python",
   "name": "python",
   "nbconvert_exporter": "python",
   "pygments_lexer": "ipython3",
   "version": "3.6.3"
  }
 },
 "nbformat": 4,
 "nbformat_minor": 2
}
